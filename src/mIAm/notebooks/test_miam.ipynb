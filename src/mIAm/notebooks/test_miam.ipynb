{
 "cells": [
  {
   "cell_type": "code",
   "execution_count": null,
   "metadata": {},
   "outputs": [],
   "source": []
  },
  {
   "cell_type": "code",
   "execution_count": null,
   "metadata": {},
   "outputs": [],
   "source": []
  },
  {
   "cell_type": "code",
   "execution_count": 14,
   "metadata": {},
   "outputs": [],
   "source": [
    "from mIAm.graph.workflow import workflow\n",
    "from mIAm.graph.trimmer import TRIMMER\n",
    "import os \n",
    "import psycopg\n",
    "from psycopg_pool import AsyncConnectionPool\n",
    "from langgraph.checkpoint.postgres.aio import AsyncPostgresSaver\n",
    "from langchain_core.messages import HumanMessage, AIMessage"
   ]
  },
  {
   "cell_type": "code",
   "execution_count": null,
   "metadata": {},
   "outputs": [],
   "source": []
  },
  {
   "cell_type": "code",
   "execution_count": 9,
   "metadata": {},
   "outputs": [],
   "source": [
    "DB_URI = f\"postgresql://{os.getenv('PSQL_USERNAME')}:{os.getenv('PSQL_PASSWORD')}\" \\\n",
    "         f\"@{os.getenv('PSQL_HOST')}:{os.getenv('PSQL_PORT')}/{os.getenv('PSQL_DATABASE')}\" \\\n",
    "         f\"?sslmode={os.getenv('PSQL_SSLMODE')}\"\n",
    "            \n",
    "connection_kwargs = {\n",
    "    \"autocommit\": True,\n",
    "    \"prepare_threshold\": 0,\n",
    "}\n",
    "\n",
    "user_config = {\n",
    "    \"first_name\": \"Branis\",\n",
    "    \"last_name\": \"GHOUL\",\n",
    "    \"email\": \"branisghoul02@hotmail.com\",\n",
    "    \"password\": \"123456789\",\n",
    "    \"phone\": \"123456789\",\n",
    "    \"address\": \"30 rue victor hugo\",\n",
    "    \"city\": \"Paris\",\n",
    "    \"country\": \"France\",\n",
    "    \"zip_code\": \"75001\",\n",
    "    \"language\": [\"fr\", \"en\", \"ar\"],\n",
    "    \"timezone\": \"Europe/Paris\",\n",
    "    \"currency\": \"EUR\",\n",
    "}\n",
    "\n"
   ]
  },
  {
   "cell_type": "code",
   "execution_count": null,
   "metadata": {},
   "outputs": [
    {
     "name": "stdout",
     "output_type": "stream",
     "text": [
      "User (q/Q to quit): hello how are you\n",
      "==================================\u001b[1m Ai Message \u001b[0m==================================\n",
      "\n",
      "Hello! I'm here and ready to help you with any culinary questions or recipe needs you might have. How can I assist you today? 🍽️👩‍🍳\n",
      "User (q/Q to quit): q\n",
      "AI: Byebye\n"
     ]
    }
   ],
   "source": [
    "async with AsyncConnectionPool(\n",
    "    conninfo=DB_URI,\n",
    "    max_size=20,\n",
    "    kwargs=connection_kwargs\n",
    ") as pool:\n",
    "    checkpointer = AsyncPostgresSaver(pool)\n",
    "\n",
    "    # NOTE: you need to call .setup() the first time you're using your checkpointer\n",
    "    await checkpointer.setup()\n",
    "    graph = workflow.compile(checkpointer=checkpointer)\n",
    "    config = {\"configurable\": {\"thread_id\": \"1\"}}\n",
    "    while True:\n",
    "        user = input(\"User (q/Q to quit): \")\n",
    "        print(f\"User (q/Q to quit): {user}\")\n",
    "        if user in {\"q\", \"Q\"}:\n",
    "            print(\"AI: Byebye\")\n",
    "            break\n",
    "        output = None\n",
    "        async for output in graph.astream(\n",
    "            {\"messages\": [HumanMessage(content=user)]}, config=config, stream_mode=\"updates\"\n",
    "        ):\n",
    "            last_message = next(iter(output.values()))[\"messages\"][-1]\n",
    "            last_message.pretty_print()\n",
    "\n",
    "        if output and \"prompt\" in output:\n",
    "            print(\"Done!\")\n",
    "            \n",
    "\n",
    "           \n",
    "    checkpoint = await checkpointer.aget(config)"
   ]
  },
  {
   "cell_type": "code",
   "execution_count": 23,
   "metadata": {},
   "outputs": [
    {
     "data": {
      "text/plain": [
       "['Hello! 🍽️ How can I assist you in the kitchen today? Are you looking for a recipe, cooking tips, or something else related to food? Let me know!',\n",
       " \"Hey there! 👋 What's cooking? Are you looking for a recipe or some culinary advice? Let me know how I can help! 🍳🥗\",\n",
       " 'It seems like your message might not have come through. If you have any questions or need assistance with cooking, feel free to let me know! 🍽️✨',\n",
       " 'Couscous with Loubia Kabyle sounds like a delicious and hearty dish! To help you with this recipe, could you please provide a bit more information?\\n\\n- **Dietary Preferences:** Do you have any dietary restrictions or preferences?\\n- **Available Ingredients:** What ingredients do you have on hand?\\n- **Time Constraints & Skill Level:** How much time do you have to prepare this dish, and what is your cooking experience level?\\n- **Special Requests:** Any specific flavors or techniques you want to include?\\n\\nWith this information, I can provide a tailored recipe for you! 🍲🌿',\n",
       " \"It seems like your message might not have come through. If you're interested in a recipe for Couscous with Loubia Kabyle, please let me know any specific details or preferences you have, and I'll be happy to assist! 🍽️✨\"]"
      ]
     },
     "execution_count": 23,
     "metadata": {},
     "output_type": "execute_result"
    }
   ],
   "source": [
    "async with AsyncConnectionPool(\n",
    "    conninfo=DB_URI,\n",
    "    max_size=20,\n",
    "    kwargs=connection_kwargs\n",
    ") as pool:\n",
    "    checkpointer = AsyncPostgresSaver(pool)\n",
    "\n",
    "    # NOTE: you need to call .setup() the first time you're using your checkpointer\n",
    "    await checkpointer.setup()\n",
    "    config = {\"configurable\": {\"thread_id\": \"1\"}}\n",
    "    checkpoint = await checkpointer.aget(config)\n",
    "trimmed_message = TRIMMER.invoke(checkpoint[\"channel_values\"][\"messages\"])\n",
    "len(trimmed_message), trimmed_message\n",
    "\n",
    "checkpoint[\"channel_values\"][\"messages\"]\n",
    "# filter only AIMessage\n",
    "filtered = [x.content for x in checkpoint[\"channel_values\"][\"messages\"] if isinstance(x, AIMessage)]\n",
    "filtered"
   ]
  }
 ],
 "metadata": {
  "kernelspec": {
   "display_name": ".venv",
   "language": "python",
   "name": "python3"
  },
  "language_info": {
   "codemirror_mode": {
    "name": "ipython",
    "version": 3
   },
   "file_extension": ".py",
   "mimetype": "text/x-python",
   "name": "python",
   "nbconvert_exporter": "python",
   "pygments_lexer": "ipython3",
   "version": "3.9.2"
  }
 },
 "nbformat": 4,
 "nbformat_minor": 2
}

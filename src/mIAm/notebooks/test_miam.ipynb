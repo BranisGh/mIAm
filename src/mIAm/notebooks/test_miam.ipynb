{
 "cells": [
  {
   "cell_type": "code",
   "execution_count": null,
   "metadata": {},
   "outputs": [],
   "source": []
  },
  {
   "cell_type": "code",
   "execution_count": null,
   "metadata": {},
   "outputs": [],
   "source": []
  },
  {
   "cell_type": "code",
   "execution_count": 1,
   "metadata": {},
   "outputs": [],
   "source": [
    "from mIAm.graph.workflow import workflow\n",
    "from mIAm.graph.trimmer import TRIMMER\n",
    "import os \n",
    "from psycopg_pool import AsyncConnectionPool\n",
    "from langgraph.checkpoint.postgres.aio import AsyncPostgresSaver\n",
    "from langchain_core.messages import HumanMessage\n"
   ]
  },
  {
   "cell_type": "code",
   "execution_count": 2,
   "metadata": {},
   "outputs": [],
   "source": [
    "DB_URI = f\"postgresql://{os.getenv('PSQL_USERNAME')}:{os.getenv('PSQL_PASSWORD')}\" \\\n",
    "         f\"@{os.getenv('PSQL_HOST')}:{os.getenv('PSQL_PORT')}/{os.getenv('PSQL_DATABASE')}\" \\\n",
    "         f\"?sslmode={os.getenv('PSQL_SSLMODE')}\"\n",
    "            \n",
    "connection_kwargs = {\n",
    "    \"autocommit\": True,\n",
    "    \"prepare_threshold\": 0,\n",
    "}\n",
    "\n",
    "user_config = {\n",
    "    \"first_name\": \"Branis\",\n",
    "    \"last_name\": \"GHOUL\",\n",
    "    \"email\": \"branisghoul02@hotmail.com\",\n",
    "    \"password\": \"123456789\",\n",
    "    \"phone\": \"123456789\",\n",
    "    \"address\": \"30 rue victor hugo\",\n",
    "    \"city\": \"Paris\",\n",
    "    \"country\": \"France\",\n",
    "    \"zip_code\": \"75001\",\n",
    "    \"language\": [\"fr\", \"en\", \"ar\"],\n",
    "    \"timezone\": \"Europe/Paris\",\n",
    "    \"currency\": \"EUR\",\n",
    "}\n",
    "\n"
   ]
  },
  {
   "cell_type": "code",
   "execution_count": 3,
   "metadata": {},
   "outputs": [
    {
     "name": "stdout",
     "output_type": "stream",
     "text": [
      "User (q/Q to quit): hi\n",
      "==================================\u001b[1m Ai Message \u001b[0m==================================\n",
      "\n",
      "Hi there! How can I assist you today with your cooking or recipe needs? Whether you're looking for a new dish to try, need some cooking tips, or have a specific question, feel free to ask! 🍳🥗\n",
      "User (q/Q to quit): tajin zitoun\n",
      "==================================\u001b[1m Ai Message \u001b[0m==================================\n",
      "\n",
      "Tajine Zitoun is a delicious Algerian dish featuring chicken, olives, and a flavorful sauce. It's a comforting and aromatic meal that's perfect for any occasion. Here's a simple recipe to guide you:\n",
      "\n",
      "### Tajine Zitoun Recipe\n",
      "\n",
      "#### Ingredients:\n",
      "- 1 kg chicken pieces (thighs or drumsticks work well)\n",
      "- 2 cups green olives, pitted\n",
      "- 1 large onion, finely chopped\n",
      "- 3 cloves garlic, minced\n",
      "- 2 tablespoons olive oil\n",
      "- 1 teaspoon ground cumin\n",
      "- 1 teaspoon ground coriander\n",
      "- 1 teaspoon paprika\n",
      "- 1/2 teaspoon turmeric\n",
      "- Salt and pepper to taste\n",
      "- 1 lemon, juiced\n",
      "- 2 cups chicken broth or water\n",
      "- Fresh parsley or cilantro, chopped (for garnish)\n",
      "\n",
      "#### Instructions:\n",
      "\n",
      "1. **Prepare the Olives:**\n",
      "   - Boil the olives in water for about 10 minutes to remove excess salt. Drain and set aside.\n",
      "\n",
      "2. **Sauté the Aromatics:**\n",
      "   - In a large pot or tajine, heat the olive oil over medium heat. Add the chopped onion and garlic, and sauté until the onion becomes translucent.\n",
      "\n",
      "3. **Brown the Chicken:**\n",
      "   - Add the chicken pieces to the pot and brown them on all sides.\n",
      "\n",
      "4. **Add Spices:**\n",
      "   - Stir in the cumin, coriander, paprika, turmeric, salt, and pepper. Mix well to coat the chicken with the spices.\n",
      "\n",
      "5. **Simmer:**\n",
      "   - Add the chicken broth or water and lemon juice to the pot. Bring to a boil, then reduce the heat to low. Cover and let it simmer for about 30-40 minutes, or until the chicken is cooked through and tender.\n",
      "\n",
      "6. **Add the Olives:**\n",
      "   - Add the prepared olives to the pot and continue to simmer for another 10 minutes to allow the flavors to meld.\n",
      "\n",
      "7. **Garnish and Serve:**\n",
      "   - Garnish with chopped parsley or cilantro before serving.\n",
      "\n",
      "Enjoy your Tajine Zitoun with crusty bread or couscous. If you have any specific preferences or need adjustments to the recipe, feel free to let me know! 🍗🍋\n",
      "User (q/Q to quit): pizza\n",
      "==================================\u001b[1m Ai Message \u001b[0m==================================\n",
      "\n",
      "Pizza is a classic favorite that can be customized in countless ways! Let's create a pizza recipe tailored to your preferences. Could you please provide a bit more information?\n",
      "\n",
      "- 🍕 **Dietary Preferences:** Do you have any dietary restrictions or preferences (e.g., vegetarian, vegan, gluten-free)?\n",
      "- 🛒 **Available Ingredients:** What ingredients do you have on hand, or any specific toppings you'd like to include?\n",
      "- ⏳ **Time Constraints & Skill Level:** How much time do you have to prepare this pizza? Are you a beginner or experienced cook?\n",
      "- ✨ **Special Requests:** Any specific flavors or types of pizza you enjoy (e.g., Margherita, Pepperoni, BBQ Chicken)?\n",
      "\n",
      "With this information, I can provide a tailored pizza recipe for you! 🍕\n",
      "User (q/Q to quit): \n",
      "==================================\u001b[1m Ai Message \u001b[0m==================================\n",
      "\n",
      "It seems like your message didn't come through. If you have specific preferences or details for your pizza recipe, feel free to share them. I'm here to help you create a delicious pizza that suits your taste! 🍕\n",
      "User (q/Q to quit): q\n",
      "AI: Byebye\n"
     ]
    }
   ],
   "source": [
    "async with AsyncConnectionPool(\n",
    "    conninfo=DB_URI,\n",
    "    max_size=20,\n",
    "    kwargs=connection_kwargs\n",
    ") as pool:\n",
    "    checkpointer = AsyncPostgresSaver(pool)\n",
    "\n",
    "    # NOTE: you need to call .setup() the first time you're using your checkpointer\n",
    "    await checkpointer.setup()\n",
    "    graph = workflow.compile(checkpointer=checkpointer)\n",
    "    config = {\"configurable\": {\"thread_id\": \"1\"}}\n",
    "    while True:\n",
    "        user = input(\"User (q/Q to quit): \")\n",
    "        print(f\"User (q/Q to quit): {user}\")\n",
    "        if user in {\"q\", \"Q\"}:\n",
    "            print(\"AI: Byebye\")\n",
    "            break\n",
    "        output = None\n",
    "        async for output in graph.astream(\n",
    "            {\"messages\": [HumanMessage(content=user)]}, config=config, stream_mode=\"updates\"\n",
    "        ):\n",
    "            last_message = next(iter(output.values()))[\"messages\"][-1]\n",
    "            last_message.pretty_print()\n",
    "\n",
    "        if output and \"prompt\" in output:\n",
    "            print(\"Done!\")\n",
    "            \n",
    "\n",
    "           \n",
    "    checkpoint = await checkpointer.aget(config)"
   ]
  },
  {
   "cell_type": "code",
   "execution_count": 4,
   "metadata": {},
   "outputs": [
    {
     "data": {
      "text/plain": [
       "(13,\n",
       " [HumanMessage(content='', additional_kwargs={}, response_metadata={}, id='6b1bdd8c-3a07-4c76-8ebe-fb42eac48881'),\n",
       "  AIMessage(content=\"It seems like your message was empty again. If you have a question or need assistance with anything related to cooking or recipes, feel free to type it out. I'm here to help! 🍽️👩\\u200d🍳\", additional_kwargs={'refusal': None}, response_metadata={'token_usage': {'completion_tokens': 47, 'prompt_tokens': 434, 'total_tokens': 481, 'completion_tokens_details': {'accepted_prediction_tokens': 0, 'audio_tokens': 0, 'reasoning_tokens': 0, 'rejected_prediction_tokens': 0}, 'prompt_tokens_details': {'audio_tokens': 0, 'cached_tokens': 0}}, 'model_name': 'gpt-4o-2024-08-06', 'system_fingerprint': 'fp_eb9dce56a8', 'finish_reason': 'stop', 'logprobs': None}, id='run-46ec59cf-67cf-4210-86c0-d3848eaac810-0', usage_metadata={'input_tokens': 434, 'output_tokens': 47, 'total_tokens': 481, 'input_token_details': {'audio': 0, 'cache_read': 0}, 'output_token_details': {'audio': 0, 'reasoning': 0}}),\n",
       "  HumanMessage(content='salade', additional_kwargs={}, response_metadata={}, id='813d5c8e-cba6-4b7f-9771-141fa98dd6b0'),\n",
       "  AIMessage(content=\"Great choice! Salads are versatile, healthy, and can be tailored to fit any dietary preference. Let's create a delicious salad recipe for you. Could you please provide a bit more information?\\n\\n- 🥗 **Dietary Preferences:** Do you have any dietary restrictions or preferences (e.g., vegetarian, vegan, gluten-free)?\\n- 🛒 **Available Ingredients:** What ingredients do you have on hand, or any specific ones you'd like to include?\\n- ⏳ **Time Constraints & Skill Level:** How much time do you have to prepare this salad? Are you a beginner or experienced cook?\\n- ✨ **Special Requests:** Any specific flavors or types of salads you enjoy (e.g., Mediterranean, Caesar, fruit-based)?\\n\\nWith this information, I can provide a tailored salad recipe for you! 🥗\", additional_kwargs={'refusal': None}, response_metadata={'token_usage': {'completion_tokens': 167, 'prompt_tokens': 399, 'total_tokens': 566, 'completion_tokens_details': {'accepted_prediction_tokens': 0, 'audio_tokens': 0, 'reasoning_tokens': 0, 'rejected_prediction_tokens': 0}, 'prompt_tokens_details': {'audio_tokens': 0, 'cached_tokens': 0}}, 'model_name': 'gpt-4o-2024-08-06', 'system_fingerprint': 'fp_eb9dce56a8', 'finish_reason': 'stop', 'logprobs': None}, id='run-b6e00673-2bdb-4259-9b02-e256118f2835-0', usage_metadata={'input_tokens': 399, 'output_tokens': 167, 'total_tokens': 566, 'input_token_details': {'audio': 0, 'cache_read': 0}, 'output_token_details': {'audio': 0, 'reasoning': 0}}),\n",
       "  HumanMessage(content='', additional_kwargs={}, response_metadata={}, id='16ffd013-965e-487d-863c-6dc335b57087'),\n",
       "  AIMessage(content=\"Hello! It seems like your message didn't come through. How can I assist you with your culinary needs today? Whether you're looking for a recipe, cooking tips, or have a specific question, I'm here to help! 🍽️👩\\u200d🍳\", additional_kwargs={'refusal': None}, response_metadata={'token_usage': {'completion_tokens': 53, 'prompt_tokens': 344, 'total_tokens': 397, 'completion_tokens_details': {'accepted_prediction_tokens': 0, 'audio_tokens': 0, 'reasoning_tokens': 0, 'rejected_prediction_tokens': 0}, 'prompt_tokens_details': {'audio_tokens': 0, 'cached_tokens': 0}}, 'model_name': 'gpt-4o-2024-08-06', 'system_fingerprint': 'fp_eb9dce56a8', 'finish_reason': 'stop', 'logprobs': None}, id='run-d5564d62-97c7-440a-85dd-e44529ea8ac0-0', usage_metadata={'input_tokens': 344, 'output_tokens': 53, 'total_tokens': 397, 'input_token_details': {'audio': 0, 'cache_read': 0}, 'output_token_details': {'audio': 0, 'reasoning': 0}}),\n",
       "  HumanMessage(content='hi', additional_kwargs={}, response_metadata={}, id='8d148ac9-411e-45aa-8ffe-5537975b4ae7'),\n",
       "  AIMessage(content=\"Hi there! How can I assist you today with your cooking or recipe needs? Whether you're looking for a new dish to try, need some cooking tips, or have a specific question, feel free to ask! 🍳🥗\", additional_kwargs={'refusal': None}, response_metadata={'token_usage': {'completion_tokens': 48, 'prompt_tokens': 1059, 'total_tokens': 1107, 'completion_tokens_details': {'accepted_prediction_tokens': 0, 'audio_tokens': 0, 'reasoning_tokens': 0, 'rejected_prediction_tokens': 0}, 'prompt_tokens_details': {'audio_tokens': 0, 'cached_tokens': 0}}, 'model_name': 'gpt-4o-2024-08-06', 'system_fingerprint': 'fp_8adc83c802', 'finish_reason': 'stop', 'logprobs': None}, id='run-aa7d21a2-5e3e-4168-980b-cfe4d8afe90b-0', usage_metadata={'input_tokens': 1059, 'output_tokens': 48, 'total_tokens': 1107, 'input_token_details': {'audio': 0, 'cache_read': 0}, 'output_token_details': {'audio': 0, 'reasoning': 0}}),\n",
       "  HumanMessage(content='tajin zitoun', additional_kwargs={}, response_metadata={}, id='69c7db14-1d72-4b2d-9988-58dec8c740dc'),\n",
       "  AIMessage(content=\"Tajine Zitoun is a delicious Algerian dish featuring chicken, olives, and a flavorful sauce. It's a comforting and aromatic meal that's perfect for any occasion. Here's a simple recipe to guide you:\\n\\n### Tajine Zitoun Recipe\\n\\n#### Ingredients:\\n- 1 kg chicken pieces (thighs or drumsticks work well)\\n- 2 cups green olives, pitted\\n- 1 large onion, finely chopped\\n- 3 cloves garlic, minced\\n- 2 tablespoons olive oil\\n- 1 teaspoon ground cumin\\n- 1 teaspoon ground coriander\\n- 1 teaspoon paprika\\n- 1/2 teaspoon turmeric\\n- Salt and pepper to taste\\n- 1 lemon, juiced\\n- 2 cups chicken broth or water\\n- Fresh parsley or cilantro, chopped (for garnish)\\n\\n#### Instructions:\\n\\n1. **Prepare the Olives:**\\n   - Boil the olives in water for about 10 minutes to remove excess salt. Drain and set aside.\\n\\n2. **Sauté the Aromatics:**\\n   - In a large pot or tajine, heat the olive oil over medium heat. Add the chopped onion and garlic, and sauté until the onion becomes translucent.\\n\\n3. **Brown the Chicken:**\\n   - Add the chicken pieces to the pot and brown them on all sides.\\n\\n4. **Add Spices:**\\n   - Stir in the cumin, coriander, paprika, turmeric, salt, and pepper. Mix well to coat the chicken with the spices.\\n\\n5. **Simmer:**\\n   - Add the chicken broth or water and lemon juice to the pot. Bring to a boil, then reduce the heat to low. Cover and let it simmer for about 30-40 minutes, or until the chicken is cooked through and tender.\\n\\n6. **Add the Olives:**\\n   - Add the prepared olives to the pot and continue to simmer for another 10 minutes to allow the flavors to meld.\\n\\n7. **Garnish and Serve:**\\n   - Garnish with chopped parsley or cilantro before serving.\\n\\nEnjoy your Tajine Zitoun with crusty bread or couscous. If you have any specific preferences or need adjustments to the recipe, feel free to let me know! 🍗🍋\", additional_kwargs={'refusal': None}, response_metadata={'token_usage': {'completion_tokens': 456, 'prompt_tokens': 1117, 'total_tokens': 1573, 'completion_tokens_details': {'accepted_prediction_tokens': 0, 'audio_tokens': 0, 'reasoning_tokens': 0, 'rejected_prediction_tokens': 0}, 'prompt_tokens_details': {'audio_tokens': 0, 'cached_tokens': 1024}}, 'model_name': 'gpt-4o-2024-08-06', 'system_fingerprint': 'fp_8adc83c802', 'finish_reason': 'stop', 'logprobs': None}, id='run-f746cb39-9422-48d5-92f7-243a43dd9afa-0', usage_metadata={'input_tokens': 1117, 'output_tokens': 456, 'total_tokens': 1573, 'input_token_details': {'audio': 0, 'cache_read': 1024}, 'output_token_details': {'audio': 0, 'reasoning': 0}}),\n",
       "  HumanMessage(content='pizza', additional_kwargs={}, response_metadata={}, id='daa6f4c5-c055-488b-b4cd-7205f734006a'),\n",
       "  AIMessage(content=\"Pizza is a classic favorite that can be customized in countless ways! Let's create a pizza recipe tailored to your preferences. Could you please provide a bit more information?\\n\\n- 🍕 **Dietary Preferences:** Do you have any dietary restrictions or preferences (e.g., vegetarian, vegan, gluten-free)?\\n- 🛒 **Available Ingredients:** What ingredients do you have on hand, or any specific toppings you'd like to include?\\n- ⏳ **Time Constraints & Skill Level:** How much time do you have to prepare this pizza? Are you a beginner or experienced cook?\\n- ✨ **Special Requests:** Any specific flavors or types of pizza you enjoy (e.g., Margherita, Pepperoni, BBQ Chicken)?\\n\\nWith this information, I can provide a tailored pizza recipe for you! 🍕\", additional_kwargs={'refusal': None}, response_metadata={'token_usage': {'completion_tokens': 162, 'prompt_tokens': 1243, 'total_tokens': 1405, 'completion_tokens_details': {'accepted_prediction_tokens': 0, 'audio_tokens': 0, 'reasoning_tokens': 0, 'rejected_prediction_tokens': 0}, 'prompt_tokens_details': {'audio_tokens': 0, 'cached_tokens': 0}}, 'model_name': 'gpt-4o-2024-08-06', 'system_fingerprint': 'fp_8adc83c802', 'finish_reason': 'stop', 'logprobs': None}, id='run-a9bd4734-016a-46b0-9d12-340925c92311-0', usage_metadata={'input_tokens': 1243, 'output_tokens': 162, 'total_tokens': 1405, 'input_token_details': {'audio': 0, 'cache_read': 0}, 'output_token_details': {'audio': 0, 'reasoning': 0}}),\n",
       "  HumanMessage(content='', additional_kwargs={}, response_metadata={}, id='87029beb-a4d9-4989-ac61-1a92dac38744')])"
      ]
     },
     "execution_count": 4,
     "metadata": {},
     "output_type": "execute_result"
    }
   ],
   "source": [
    "trimmed_message = TRIMMER.invoke(checkpoint[\"channel_values\"][\"messages\"])\n",
    "len(trimmed_message), trimmed_message"
   ]
  }
 ],
 "metadata": {
  "kernelspec": {
   "display_name": ".venv",
   "language": "python",
   "name": "python3"
  },
  "language_info": {
   "codemirror_mode": {
    "name": "ipython",
    "version": 3
   },
   "file_extension": ".py",
   "mimetype": "text/x-python",
   "name": "python",
   "nbconvert_exporter": "python",
   "pygments_lexer": "ipython3",
   "version": "3.10.12"
  }
 },
 "nbformat": 4,
 "nbformat_minor": 2
}
